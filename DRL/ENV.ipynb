{
 "cells": [
  {
   "cell_type": "code",
   "execution_count": 1,
   "metadata": {},
   "outputs": [],
   "source": [
    "import numpy as np\n",
    "import ENV"
   ]
  },
  {
   "cell_type": "code",
   "execution_count": 1,
   "metadata": {},
   "outputs": [
    {
     "name": "stdout",
     "output_type": "stream",
     "text": [
      "Looking in indexes: https://pypi.tuna.tsinghua.edu.cn/simple\n",
      "Collecting matplotlib\n",
      "  Downloading https://pypi.tuna.tsinghua.edu.cn/packages/e1/81/0a73fe71098683a1f73243f18f419464ec109acae16811bf29c5d0dc173e/matplotlib-3.5.2-cp39-cp39-manylinux_2_5_x86_64.manylinux1_x86_64.whl (11.2 MB)\n",
      "\u001b[2K     \u001b[90m━━━━━━━━━━━━━━━━━━━━━━━━━━━━━━━━━━━━━━━━\u001b[0m \u001b[32m11.2/11.2 MB\u001b[0m \u001b[31m2.8 MB/s\u001b[0m eta \u001b[36m0:00:00\u001b[0m00:01\u001b[0m00:01\u001b[0m\n",
      "\u001b[?25hCollecting cycler>=0.10\n",
      "  Using cached https://pypi.tuna.tsinghua.edu.cn/packages/5c/f9/695d6bedebd747e5eb0fe8fad57b72fdf25411273a39791cde838d5a8f51/cycler-0.11.0-py3-none-any.whl (6.4 kB)\n",
      "Collecting kiwisolver>=1.0.1\n",
      "  Downloading https://pypi.tuna.tsinghua.edu.cn/packages/f6/13/2a187e2280251f5c035da46e1706d4c8bd6ccc9f34e88c298cffbc5ba793/kiwisolver-1.4.2-cp39-cp39-manylinux_2_12_x86_64.manylinux2010_x86_64.whl (1.6 MB)\n",
      "\u001b[2K     \u001b[90m━━━━━━━━━━━━━━━━━━━━━━━━━━━━━━━━━━━━━━━━\u001b[0m \u001b[32m1.6/1.6 MB\u001b[0m \u001b[31m2.1 MB/s\u001b[0m eta \u001b[36m0:00:00\u001b[0m00:01\u001b[0m00:01\u001b[0m0m\n",
      "\u001b[?25hRequirement already satisfied: python-dateutil>=2.7 in /home/zy/anaconda3/envs/py39/lib/python3.9/site-packages (from matplotlib) (2.8.2)\n",
      "Collecting pillow>=6.2.0\n",
      "  Downloading https://pypi.tuna.tsinghua.edu.cn/packages/59/d0/eb666c55b685419103023f62519dbc968a008e268ec243c56f3214f1da45/Pillow-9.1.1-cp39-cp39-manylinux_2_17_x86_64.manylinux2014_x86_64.whl (3.1 MB)\n",
      "\u001b[2K     \u001b[90m━━━━━━━━━━━━━━━━━━━━━━━━━━━━━━━━━━━━━━━━\u001b[0m \u001b[32m3.1/3.1 MB\u001b[0m \u001b[31m2.7 MB/s\u001b[0m eta \u001b[36m0:00:00\u001b[0ma \u001b[36m0:00:01\u001b[0m\n",
      "\u001b[?25hRequirement already satisfied: pyparsing>=2.2.1 in /home/zy/anaconda3/envs/py39/lib/python3.9/site-packages (from matplotlib) (3.0.9)\n",
      "Requirement already satisfied: packaging>=20.0 in /home/zy/anaconda3/envs/py39/lib/python3.9/site-packages (from matplotlib) (21.3)\n",
      "Requirement already satisfied: numpy>=1.17 in /home/zy/anaconda3/envs/py39/lib/python3.9/site-packages (from matplotlib) (1.22.4)\n",
      "Collecting fonttools>=4.22.0\n",
      "  Downloading https://pypi.tuna.tsinghua.edu.cn/packages/2f/85/2f6e42fb4b537b9998835410578fb1973175b81691e9a82ab6668cf64b0b/fonttools-4.33.3-py3-none-any.whl (930 kB)\n",
      "\u001b[2K     \u001b[90m━━━━━━━━━━━━━━━━━━━━━━━━━━━━━━━━━━━━━━━\u001b[0m \u001b[32m930.9/930.9 kB\u001b[0m \u001b[31m2.7 MB/s\u001b[0m eta \u001b[36m0:00:00\u001b[0ma \u001b[36m0:00:01\u001b[0m\n",
      "\u001b[?25hRequirement already satisfied: six>=1.5 in /home/zy/anaconda3/envs/py39/lib/python3.9/site-packages (from python-dateutil>=2.7->matplotlib) (1.16.0)\n",
      "Installing collected packages: pillow, kiwisolver, fonttools, cycler, matplotlib\n",
      "Successfully installed cycler-0.11.0 fonttools-4.33.3 kiwisolver-1.4.2 matplotlib-3.5.2 pillow-9.1.1\n",
      "Note: you may need to restart the kernel to use updated packages.\n"
     ]
    }
   ],
   "source": [
    "%pip install matplotlib"
   ]
  },
  {
   "cell_type": "code",
   "execution_count": 6,
   "metadata": {},
   "outputs": [
    {
     "name": "stdout",
     "output_type": "stream",
     "text": [
      "(array([-0.00279816, -0.18650424, -0.04548791,  0.2406923 ]), 1.0, False, {})\n",
      "(array([-0.00652824, -0.38094788, -0.04067407,  0.51868723]), 1.0, False, {})\n",
      "(array([-0.0141472 , -0.57547428, -0.03030032,  0.79828063]), 1.0, False, {})\n",
      "(array([-0.02565669, -0.77016771, -0.01433471,  1.08127978]), 1.0, False, {})\n",
      "(array([-0.04106004, -0.96509753,  0.00729088,  1.36943021]), 1.0, False, {})\n",
      "(array([-0.06036199, -1.16030994,  0.03467949,  1.66438454]), 1.0, False, {})\n",
      "(array([-0.08356819, -1.35581794,  0.06796718,  1.96766394]), 1.0, False, {})\n",
      "(array([-0.11068455, -1.55158904,  0.10732046,  2.28060954]), 1.0, False, {})\n",
      "(array([-0.14171633, -1.7475303 ,  0.15293265,  2.60432214]), 1.0, False, {})\n",
      "(array([-0.17666693, -1.94347075,  0.20501909,  2.9395896 ]), 1.0, False, {})\n",
      "(array([-0.21553635, -2.13914154,  0.26381088,  3.28680316]), 1.0, True, {})\n",
      "(array([-0.25831918, -2.33415523,  0.32954695,  3.64586731]), 0.0, True, {})\n",
      "(array([-0.30500228, -2.52798655,  0.40246429,  4.01611155]), 0.0, True, {})\n",
      "(array([-0.35556202, -2.71995851,  0.48278652,  4.39621719]), 0.0, True, {})\n",
      "(array([-0.40996119, -2.90923892,  0.57071087,  4.78417622]), 0.0, True, {})\n",
      "(array([-0.46814596, -3.09485353,  0.66639439,  5.17730078]), 0.0, True, {})\n",
      "(array([-0.53004303, -3.27572184,  0.76994041,  5.57229741]), 0.0, True, {})\n",
      "(array([-0.59555747, -3.45071979,  0.88138636,  5.96540882]), 0.0, True, {})\n",
      "(array([-0.66457187, -3.61877021,  1.00069453,  6.35260631]), 0.0, True, {})\n",
      "(array([-0.73694727, -3.77895703,  1.12774666,  6.72979255]), 0.0, True, {})\n"
     ]
    }
   ],
   "source": [
    "import gym\n",
    "envv=gym.make('CartPole-v0')\n",
    "envv.reset()\n",
    "for i in range(20):\n",
    "    print(envv.step(0))"
   ]
  },
  {
   "cell_type": "code",
   "execution_count": 3,
   "metadata": {},
   "outputs": [
    {
     "data": {
      "text/plain": [
       "inf"
      ]
     },
     "execution_count": 3,
     "metadata": {},
     "output_type": "execute_result"
    }
   ],
   "source": [
    "np.inf-1"
   ]
  },
  {
   "cell_type": "code",
   "execution_count": 2,
   "metadata": {},
   "outputs": [],
   "source": [
    "random_uniform_int=lambda low,high:(lambda x:np.random.randint(low,high,x)+0.0)\n",
    "random_loc=lambda low,high:(lambda x:np.random.choice(np.arange(low,high),x,replace=False))\n",
    "unit_loc=lambda s,e:(lambda x:np.linspace(s,e,x+2)[1:-1])\n",
    "num_cars=5\n",
    "num_units=3\n",
    "bs_cover=1000\n",
    "config={'source':lambda x:int(random_uniform_int(num_units,num_cars+num_units)(x)),\n",
    "        'sc':random_uniform_int(1000,10000),\n",
    "        'sr':random_uniform_int(10,40),\n",
    "        'tp':random_uniform_int(1,5),\n",
    "        'pfr':random_uniform_int(5000,10000),\n",
    "        'pf':random_uniform_int(200,500),\n",
    "        'plr':unit_loc(0,bs_cover),\n",
    "        'pl':random_loc(0,100),\n",
    "        'pd':random_uniform_int(2,6),\n",
    "        'ps':random_uniform_int(60,100),\n",
    "        'pbr':random_uniform_int(200,500),\n",
    "        'pb':random_uniform_int(50,100),\n",
    "        'ppr':random_uniform_int(500,1000),\n",
    "        'pp':random_uniform_int(100,200),\n",
    "        'pg':random_uniform_int(10,100),\n",
    "        'whitenoise':1,\n",
    "        'alpha':2\n",
    "}"
   ]
  },
  {
   "cell_type": "code",
   "execution_count": 3,
   "metadata": {},
   "outputs": [
    {
     "data": {
      "text/plain": [
       "{'pf': 'processor_frequency',\n",
       " 'pl': 'processor_location',\n",
       " 'pd': 'processor_distancefromroad',\n",
       " 'ps': 'processor_speed',\n",
       " 'pb': 'processor_bandwidth',\n",
       " 'pp': 'processor_power',\n",
       " 'pg': 'processor_gain',\n",
       " 'pw': 'processor_wait',\n",
       " 'tp': 'time_pass',\n",
       " 'sc': 'subtask_cycle',\n",
       " 'sr': 'subtask_returnsize',\n",
       " 'sl': 'subtask_location',\n",
       " 'whitenoise': 'whitenoise',\n",
       " 'alpha': 'alpha',\n",
       " 'source': 'source'}"
      ]
     },
     "execution_count": 3,
     "metadata": {},
     "output_type": "execute_result"
    }
   ],
   "source": [
    "ENV.ADENVBASE.attr_code"
   ]
  },
  {
   "cell_type": "code",
   "execution_count": 4,
   "metadata": {},
   "outputs": [],
   "source": [
    "np.random.seed(1)"
   ]
  },
  {
   "cell_type": "code",
   "execution_count": 14,
   "metadata": {},
   "outputs": [
    {
     "name": "stdout",
     "output_type": "stream",
     "text": [
      "time_exe:  ['20.02', '18.75', '31.20', '34.85', '4.85 ', '8.53 ', '7.57 ']\n",
      "time_wait:  ['0.00 ', '0.00 ', '0.00 ', '31.20', '0.00 ', '66.06', '0.00 ']\n",
      "time_return:  ['0.00 ', '0.01 ', '0.10 ', '0.06 ', '0.04 ', '0.08 ', '0.00 ']\n",
      "processor_wait:  ['0.00 ', '0.00 ', '0.00 ', '0.00 ', '0.00 ', '6.70 ', '34.50', '79.15']\n",
      "return_wait:  ['0.00 ', '0.00 ', '0.00 ', '0.00 ', '0.00 ', '0.04 ', '0.01 ', '0.08 ']\n",
      "\n",
      "time_exe:  ['23.19', '13.73', '0.82 ', '1.58 ', '6.37 ', '0.37 ', '16.90']\n",
      "time_wait:  ['0.00 ', '0.00 ', '0.00 ', '0.00 ', '0.00 ', '0.00 ', '34.50']\n",
      "time_return:  ['0.00 ', '0.02 ', '0.07 ', '0.12 ', '0.00 ', '0.00 ', '0.07 ']\n",
      "processor_wait:  ['0.00 ', '0.64 ', '0.95 ', '0.00 ', '26.46', '12.07', '67.30', '0.00 ']\n",
      "return_wait:  ['0.00 ', '0.07 ', '0.12 ', '0.00 ', '0.02 ', '0.04 ', '0.07 ', '0.08 ']\n",
      "\n",
      "time_exe:  ['26.42', '9.11 ', '23.58', '17.49', '35.48', '29.88', '0.70 ']\n",
      "time_wait:  ['0.00 ', '67.30', '0.00 ', '26.46', '0.00 ', '0.00 ', '0.95 ']\n",
      "time_return:  ['0.00 ', '0.06 ', '0.00 ', '0.25 ', '0.10 ', '0.00 ', '0.07 ']\n",
      "processor_wait:  ['0.00 ', '0.00 ', '0.35 ', '0.00 ', '59.43', '33.65', '104.28', '68.96']\n",
      "return_wait:  ['0.00 ', '0.07 ', '0.07 ', '0.00 ', '0.25 ', '0.04 ', '0.06 ', '0.10 ']\n",
      "\n",
      "time_exe:  ['1.27 ', '0.64 ', '1.14 ', '3.21 ', '0.87 ', '30.55', '1.20 ']\n",
      "time_wait:  ['0.00 ', '0.35 ', '0.00 ', '33.65', '0.00 ', '68.96', '1.14 ']\n",
      "time_return:  ['0.00 ', '0.05 ', '0.16 ', '0.11 ', '0.00 ', '0.09 ', '0.21 ']\n",
      "processor_wait:  ['0.53 ', '0.00 ', '0.00 ', '0.00 ', '0.00 ', '37.07', '0.00 ', '127.07']\n",
      "return_wait:  ['0.21 ', '0.07 ', '0.00 ', '0.00 ', '0.25 ', '0.11 ', '0.06 ', '0.09 ']\n",
      "\n",
      "time_exe:  ['0.80 ', '9.45 ', '0.61 ', '8.07 ', '4.01 ', '0.40 ', '25.55']\n",
      "time_wait:  ['0.00 ', '0.00 ', '0.00 ', '0.00 ', '37.07', '0.00 ', '0.00 ']\n",
      "time_return:  ['0.00 ', '0.18 ', '0.08 ', '0.02 ', '0.06 ', '0.00 ', '0.00 ']\n",
      "processor_wait:  ['0.00 ', '0.00 ', '0.00 ', '12.13', '14.91', '62.63', '0.00 ', '0.00 ']\n",
      "return_wait:  ['0.21 ', '0.00 ', '0.00 ', '0.02 ', '0.18 ', '0.06 ', '0.06 ', '0.09 ']\n",
      "\n",
      "time_exe:  ['0.23 ', '5.23 ', '26.99', '1.17 ', '1.46 ', '1.10 ', '1.04 ']\n",
      "time_wait:  ['0.00 ', '0.00 ', '5.23 ', '0.00 ', '0.00 ', '0.00 ', '0.00 ']\n",
      "time_return:  ['0.00 ', '0.09 ', '0.05 ', '0.61 ', '0.87 ', '0.00 ', '0.56 ']\n",
      "processor_wait:  ['1.92 ', '1.08 ', '1.28 ', '0.00 ', '0.00 ', '0.00 ', '58.21', '0.00 ']\n",
      "return_wait:  ['0.87 ', '0.56 ', '0.61 ', '0.02 ', '0.18 ', '0.06 ', '0.05 ', '0.09 ']\n",
      "\n",
      "time_exe:  ['35.15', '0.97 ', '12.47', '3.53 ', '6.11 ', '14.08', '18.42']\n",
      "time_wait:  ['0.00 ', '1.08 ', '58.21', '0.00 ', '0.00 ', '0.00 ', '0.00 ']\n",
      "time_return:  ['0.00 ', '1.15 ', '0.06 ', '0.01 ', '0.00 ', '0.05 ', '0.00 ']\n",
      "processor_wait:  ['0.00 ', '0.00 ', '0.00 ', '0.00 ', '5.63 ', '24.16', '85.10', '31.15']\n",
      "return_wait:  ['0.87 ', '0.17 ', '0.61 ', '0.02 ', '0.01 ', '0.05 ', '0.06 ', '0.09 ']\n",
      "\n",
      "time_exe:  ['1.68 ', '0.28 ', '23.74', '13.49', '1.07 ', '26.70', '17.69']\n",
      "time_wait:  ['0.00 ', '0.00 ', '0.00 ', '0.00 ', '0.00 ', '5.63 ', '0.00 ']\n",
      "time_return:  ['0.00 ', '3.81 ', '0.22 ', '0.00 ', '0.00 ', '0.02 ', '0.00 ']\n",
      "processor_wait:  ['0.00 ', '0.00 ', '0.00 ', '34.24', '47.02', '0.00 ', '0.00 ', '0.00 ']\n",
      "return_wait:  ['0.87 ', '2.16 ', '0.00 ', '0.22 ', '0.02 ', '0.05 ', '0.06 ', '0.09 ']\n",
      "\n",
      "time_exe:  ['1.81 ', '27.19', '0.35 ', '23.10', '10.04', '2.76 ', '30.16']\n",
      "time_wait:  ['0.00 ', '0.00 ', '1.80 ', '34.24', '0.00 ', '0.00 ', '0.00 ']\n",
      "time_return:  ['0.00 ', '0.11 ', '5.58 ', '0.25 ', '0.05 ', '0.00 ', '0.00 ']\n",
      "processor_wait:  ['0.00 ', '0.00 ', '0.00 ', '57.10', '0.00 ', '51.38', '37.20', '0.00 ']\n",
      "return_wait:  ['0.00 ', '5.09 ', '0.00 ', '0.25 ', '0.02 ', '0.11 ', '0.05 ', '0.09 ']\n",
      "\n",
      "time_exe:  ['11.59', '9.55 ', '0.92 ', '16.69', '7.80 ', '0.84 ', '30.61']\n",
      "time_wait:  ['0.00 ', '57.10', '0.00 ', '0.00 ', '37.20', '4.25 ', '0.00 ']\n",
      "time_return:  ['0.00 ', '0.10 ', '2.24 ', '0.00 ', '0.01 ', '2.78 ', '0.17 ']\n",
      "processor_wait:  ['0.00 ', '0.00 ', '0.00 ', '72.20', '0.00 ', '64.08', '48.81', '57.22']\n",
      "return_wait:  ['0.00 ', '4.71 ', '0.08 ', '0.10 ', '0.02 ', '0.11 ', '0.01 ', '0.17 ']\n",
      "\n"
     ]
    }
   ],
   "source": [
    "num_subtasks=7\n",
    "env=ENV.ADENVBASE(num_cars+num_units,num_subtasks,num_units,bs_cover,config)\n",
    "env.reset()\n",
    "for i in range(10):\n",
    "    action=np.random.randint(low=0,high=num_cars+num_units,size=(2,num_subtasks))\n",
    "    a={pro:[sub for sub in range(num_subtasks) if action[0,sub]==pro] for pro in set(action[0])}\n",
    "    for pro,sub in a.items():\n",
    "        for i,x in enumerate(sub):\n",
    "            action[1,x]=i+1\n",
    "    time_exe,time_wait,time_return=env.step(action)\n",
    "    print('time_exe: ',['{0:<5.2f}'.format(t) for t in time_exe])\n",
    "    print('time_wait: ',['{0:<5.2f}'.format(t) for t in time_wait])\n",
    "    print('time_return: ',['{0:<5.2f}'.format(t) for t in time_return])\n",
    "    wait=['{0:<5.2f}'.format(num) for num in env.processor_wait]\n",
    "    return_wait=['{0:<5.2f}'.format(num) for num in env.processor_lastaway_wait]\n",
    "    print('processor_wait: ',wait)\n",
    "    print('return_wait: ',return_wait)\n",
    "    print()"
   ]
  },
  {
   "cell_type": "code",
   "execution_count": 6,
   "metadata": {},
   "outputs": [
    {
     "name": "stdout",
     "output_type": "stream",
     "text": [
      "[ 0.  0.  0. 78. 78. 78. 78. 78.] [ 250.  500.  750. 2198. 2150. 2162. 2188. 2175.] [0. 0. 0. 5. 3. 2. 3. 2.]\n"
     ]
    }
   ],
   "source": [
    "print(env.processor_speed,env.processor_location,env.processor_distancefromroad)"
   ]
  },
  {
   "cell_type": "code",
   "execution_count": 12,
   "metadata": {},
   "outputs": [],
   "source": [
    "a=['{0:<5.2f}'.format(num) for num in env.processor_wait]"
   ]
  },
  {
   "cell_type": "code",
   "execution_count": 25,
   "metadata": {},
   "outputs": [],
   "source": [
    "a=np.array([[1,0,1],\n",
    "            [3,1,0]])"
   ]
  },
  {
   "cell_type": "code",
   "execution_count": 24,
   "metadata": {},
   "outputs": [
    {
     "data": {
      "text/plain": [
       "True"
      ]
     },
     "execution_count": 24,
     "metadata": {},
     "output_type": "execute_result"
    }
   ],
   "source": [
    "1==1.0"
   ]
  },
  {
   "cell_type": "code",
   "execution_count": 31,
   "metadata": {},
   "outputs": [
    {
     "data": {
      "text/plain": [
       "[1, 1, 0]"
      ]
     },
     "execution_count": 31,
     "metadata": {},
     "output_type": "execute_result"
    }
   ],
   "source": [
    "l=[np.where(k>0)[0] for k in a.T]\n",
    "u=[np.random.choice(x) for x in l]\n",
    "u"
   ]
  },
  {
   "cell_type": "code",
   "execution_count": 13,
   "metadata": {},
   "outputs": [
    {
     "data": {
      "text/plain": [
       "array([False,  True, False])"
      ]
     },
     "execution_count": 13,
     "metadata": {},
     "output_type": "execute_result"
    }
   ],
   "source": [
    "a[1]==True"
   ]
  },
  {
   "cell_type": "code",
   "execution_count": 16,
   "metadata": {},
   "outputs": [
    {
     "ename": "AttributeError",
     "evalue": "'numpy.ndarray' object has no attribute 'where'",
     "output_type": "error",
     "traceback": [
      "\u001b[0;31m---------------------------------------------------------------------------\u001b[0m",
      "\u001b[0;31mAttributeError\u001b[0m                            Traceback (most recent call last)",
      "\u001b[0;32m<ipython-input-16-db69eec119f7>\u001b[0m in \u001b[0;36m<module>\u001b[0;34m\u001b[0m\n\u001b[0;32m----> 1\u001b[0;31m \u001b[0ma\u001b[0m\u001b[0;34m[\u001b[0m\u001b[0;36m1\u001b[0m\u001b[0;34m]\u001b[0m\u001b[0;34m.\u001b[0m\u001b[0mwhere\u001b[0m\u001b[0;34m(\u001b[0m\u001b[0mx\u001b[0m\u001b[0;34m>\u001b[0m\u001b[0;36m0\u001b[0m\u001b[0;34m)\u001b[0m\u001b[0;34m\u001b[0m\u001b[0;34m\u001b[0m\u001b[0m\n\u001b[0m",
      "\u001b[0;31mAttributeError\u001b[0m: 'numpy.ndarray' object has no attribute 'where'"
     ]
    }
   ],
   "source": [
    "a[1].where(x>0)"
   ]
  },
  {
   "cell_type": "code",
   "execution_count": 22,
   "metadata": {},
   "outputs": [
    {
     "data": {
      "text/plain": [
       "array([0])"
      ]
     },
     "execution_count": 22,
     "metadata": {},
     "output_type": "execute_result"
    }
   ],
   "source": [
    "np.where(a[1]>0)[0]"
   ]
  },
  {
   "cell_type": "code",
   "execution_count": 21,
   "metadata": {},
   "outputs": [
    {
     "data": {
      "text/plain": [
       "array([0, 1])"
      ]
     },
     "execution_count": 21,
     "metadata": {},
     "output_type": "execute_result"
    }
   ],
   "source": [
    "a"
   ]
  },
  {
   "cell_type": "code",
   "execution_count": 33,
   "metadata": {},
   "outputs": [
    {
     "data": {
      "text/plain": [
       "True"
      ]
     },
     "execution_count": 33,
     "metadata": {},
     "output_type": "execute_result"
    }
   ],
   "source": [
    "np.inf>0"
   ]
  },
  {
   "cell_type": "code",
   "execution_count": 1,
   "metadata": {},
   "outputs": [
    {
     "name": "stderr",
     "output_type": "stream",
     "text": [
      "/home/zy/anaconda3/envs/py36/lib/python3.6/site-packages/ipykernel_launcher.py:3: IntegrationWarning: The integral is probably divergent, or slowly convergent.\n",
      "  This is separate from the ipykernel package so we can avoid doing imports until\n"
     ]
    },
    {
     "data": {
      "text/plain": [
       "-1.0"
      ]
     },
     "execution_count": 1,
     "metadata": {},
     "output_type": "execute_result"
    }
   ],
   "source": [
    "import scipy.integrate as si\n",
    "import numpy as np\n",
    "F=lambda f:(lambda x:si.quad(f,0,x)[0])\n",
    "f=lambda x:1\n",
    "F(f)(np.inf)"
   ]
  },
  {
   "cell_type": "code",
   "execution_count": 2,
   "metadata": {},
   "outputs": [
    {
     "name": "stdout",
     "output_type": "stream",
     "text": [
      "\u001b[0;31mDocstring:\u001b[0m\n",
      "random(size=None)\n",
      "\n",
      "Return random floats in the half-open interval [0.0, 1.0). Alias for\n",
      "`random_sample` to ease forward-porting to the new random API.\n",
      "\u001b[0;31mType:\u001b[0m      builtin_function_or_method\n"
     ]
    }
   ],
   "source": [
    "np.random.random??"
   ]
  },
  {
   "cell_type": "code",
   "execution_count": 3,
   "metadata": {},
   "outputs": [
    {
     "name": "stdout",
     "output_type": "stream",
     "text": [
      "\u001b[0;31mDocstring:\u001b[0m\n",
      "uniform(low=0.0, high=1.0, size=None)\n",
      "\n",
      "Draw samples from a uniform distribution.\n",
      "\n",
      "Samples are uniformly distributed over the half-open interval\n",
      "``[low, high)`` (includes low, but excludes high).  In other words,\n",
      "any value within the given interval is equally likely to be drawn\n",
      "by `uniform`.\n",
      "\n",
      "Parameters\n",
      "----------\n",
      "low : float or array_like of floats, optional\n",
      "    Lower boundary of the output interval.  All values generated will be\n",
      "    greater than or equal to low.  The default value is 0.\n",
      "high : float or array_like of floats\n",
      "    Upper boundary of the output interval.  All values generated will be\n",
      "    less than high.  The default value is 1.0.\n",
      "size : int or tuple of ints, optional\n",
      "    Output shape.  If the given shape is, e.g., ``(m, n, k)``, then\n",
      "    ``m * n * k`` samples are drawn.  If size is ``None`` (default),\n",
      "    a single value is returned if ``low`` and ``high`` are both scalars.\n",
      "    Otherwise, ``np.broadcast(low, high).size`` samples are drawn.\n",
      "\n",
      "Returns\n",
      "-------\n",
      "out : ndarray or scalar\n",
      "    Drawn samples from the parameterized uniform distribution.\n",
      "\n",
      "See Also\n",
      "--------\n",
      "randint : Discrete uniform distribution, yielding integers.\n",
      "random_integers : Discrete uniform distribution over the closed\n",
      "                  interval ``[low, high]``.\n",
      "random_sample : Floats uniformly distributed over ``[0, 1)``.\n",
      "random : Alias for `random_sample`.\n",
      "rand : Convenience function that accepts dimensions as input, e.g.,\n",
      "       ``rand(2,2)`` would generate a 2-by-2 array of floats,\n",
      "       uniformly distributed over ``[0, 1)``.\n",
      "\n",
      "Notes\n",
      "-----\n",
      "The probability density function of the uniform distribution is\n",
      "\n",
      ".. math:: p(x) = \\frac{1}{b - a}\n",
      "\n",
      "anywhere within the interval ``[a, b)``, and zero elsewhere.\n",
      "\n",
      "When ``high`` == ``low``, values of ``low`` will be returned.\n",
      "If ``high`` < ``low``, the results are officially undefined\n",
      "and may eventually raise an error, i.e. do not rely on this\n",
      "function to behave when passed arguments satisfying that\n",
      "inequality condition.\n",
      "\n",
      "Examples\n",
      "--------\n",
      "Draw samples from the distribution:\n",
      "\n",
      ">>> s = np.random.uniform(-1,0,1000)\n",
      "\n",
      "All values are within the given interval:\n",
      "\n",
      ">>> np.all(s >= -1)\n",
      "True\n",
      ">>> np.all(s < 0)\n",
      "True\n",
      "\n",
      "Display the histogram of the samples, along with the\n",
      "probability density function:\n",
      "\n",
      ">>> import matplotlib.pyplot as plt\n",
      ">>> count, bins, ignored = plt.hist(s, 15, density=True)\n",
      ">>> plt.plot(bins, np.ones_like(bins), linewidth=2, color='r')\n",
      ">>> plt.show()\n",
      "\u001b[0;31mType:\u001b[0m      builtin_function_or_method\n"
     ]
    }
   ],
   "source": [
    "np.random.uniform??"
   ]
  },
  {
   "cell_type": "code",
   "execution_count": null,
   "metadata": {},
   "outputs": [],
   "source": []
  }
 ],
 "metadata": {
  "interpreter": {
   "hash": "1b4a6f65c2238d032f067d6f379d090fbde9010b65ffb9336f26c4d80f4b2bb6"
  },
  "kernelspec": {
   "display_name": "Python 3.9.12 ('py39': conda)",
   "language": "python",
   "name": "python3"
  },
  "language_info": {
   "codemirror_mode": {
    "name": "ipython",
    "version": 3
   },
   "file_extension": ".py",
   "mimetype": "text/x-python",
   "name": "python",
   "nbconvert_exporter": "python",
   "pygments_lexer": "ipython3",
   "version": "3.9.12"
  },
  "orig_nbformat": 4
 },
 "nbformat": 4,
 "nbformat_minor": 2
}
